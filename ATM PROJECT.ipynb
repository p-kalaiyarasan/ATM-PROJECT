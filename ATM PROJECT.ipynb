{
 "cells": [
  {
   "cell_type": "code",
   "execution_count": 1,
   "id": "452951ef",
   "metadata": {},
   "outputs": [
    {
     "name": "stdout",
     "output_type": "stream",
     "text": [
      "\t\t\tWelcome To Atm\n",
      "Enter the pin1234\n",
      "choose the option\n",
      "1. Withdraw \n",
      "2. Deposit \n",
      "3. Change pin \n",
      "4. balance check \n",
      "\n",
      "Enter the option : 1\n",
      "Enter the amount to withdraw : 2\n",
      "withdraw amount: 2\n",
      "Balance amount : 9998\n"
     ]
    }
   ],
   "source": [
    "print('\\t\\t\\tWelcome To Atm')\n",
    "balance= 10000\n",
    "pin = 1234\n",
    "a=int(input(\"Enter the pin\"))\n",
    "if pin == a:\n",
    "    print('choose the option')\n",
    "    print('1. Withdraw \\n'\n",
    "          '2. Deposit \\n'\n",
    "          '3. Change pin \\n'\n",
    "          '4. balance check \\n')\n",
    "    x=int(input('Enter the option : '))\n",
    "    if x==1:\n",
    "        q=int(input('Enter the amount to withdraw : '))\n",
    "        w=balance-q\n",
    "        if balance<=q:\n",
    "            print('transaction invalid')\n",
    "        else:\n",
    "            print(f'withdraw amount: {q}')\n",
    "            print(f'Balance amount : {w}')\n",
    "    elif x==2:\n",
    "        print('Deposit')\n",
    "        e=int(input('Enter the deposut amount : '))\n",
    "        print('Enter the denomination')\n",
    "        r=int(input('Enter the count of 2000 :'))\n",
    "        t=int(input('Enter the count of 500  :'))\n",
    "        y=int(input('Enter the count of 200  :'))\n",
    "        u=int(input('Enter the count of 100  :'))\n",
    "        count=(2000*r)+(500*t)+(200*y)+(100*u)\n",
    "        if count==e:\n",
    "            balance += count\n",
    "            print(f'Balance={balance}')\n",
    "\n",
    "        else:\n",
    "            print('Invaled transection')\n",
    "    elif x==3:\n",
    "        pa =int(input('Enterthe old pin : '))\n",
    "        if pa == pin:\n",
    "            n_pin = int(input('Enter the new pin : '))\n",
    "            print(f'The changed pin : {n_pin}')\n",
    "            pin = n_pin\n",
    "            print(pin)\n",
    "        else:\n",
    "            print('Wrong pin')\n",
    "    elif x == 4:\n",
    "        print(f'The acount balance is : {balance}')\n",
    "else:\n",
    "    print('\\t\\t\\tINVALED PIN')\n",
    "    print('\\t\\t\\t RETRY AGAIN')"
   ]
  },
  {
   "cell_type": "code",
   "execution_count": null,
   "id": "70ef4786",
   "metadata": {},
   "outputs": [],
   "source": []
  }
 ],
 "metadata": {
  "kernelspec": {
   "display_name": "Python 3 (ipykernel)",
   "language": "python",
   "name": "python3"
  },
  "language_info": {
   "codemirror_mode": {
    "name": "ipython",
    "version": 3
   },
   "file_extension": ".py",
   "mimetype": "text/x-python",
   "name": "python",
   "nbconvert_exporter": "python",
   "pygments_lexer": "ipython3",
   "version": "3.9.12"
  }
 },
 "nbformat": 4,
 "nbformat_minor": 5
}
